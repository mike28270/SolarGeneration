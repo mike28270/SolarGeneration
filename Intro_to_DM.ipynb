{
 "cells": [
  {
   "cell_type": "markdown",
   "id": "a028ad4f",
   "metadata": {},
   "source": [
    "# Intro to Data Management with Python\n",
    "# Sketch an analysis for Solar Power Generation Dataset\n",
    "\n",
    "Kritkorn Supyen (Data Enginering, Jacobs University Bremen)"
   ]
  },
  {
   "cell_type": "markdown",
   "id": "8dbea9ca",
   "metadata": {},
   "source": [
    "# 1. Initialize Data"
   ]
  },
  {
   "cell_type": "code",
   "execution_count": 1,
   "id": "e8e9fdb3",
   "metadata": {},
   "outputs": [],
   "source": [
    "import mysql.connector\n",
    "import datamanagement as dm\n",
    "import re\n",
    "import json"
   ]
  },
  {
   "cell_type": "markdown",
   "id": "d8583113",
   "metadata": {},
   "source": [
    "## 1.1 Connect to MySQL server"
   ]
  },
  {
   "cell_type": "code",
   "execution_count": 2,
   "id": "120c8e34",
   "metadata": {},
   "outputs": [],
   "source": [
    "# Use a JSON file to hide MySQL credentials a little bit.\n",
    "parameters_file = open('MySQLparameter.json')\n",
    "parameters_value = json.load(parameters_file)\n",
    "parameters_file.close()\n",
    "\n",
    "db_connection, mycursor = dm.connectServer(**parameters_value)"
   ]
  },
  {
   "cell_type": "markdown",
   "id": "5d658f42",
   "metadata": {},
   "source": [
    "## 1.2 Create database\n",
    "\n",
    "Create a database named PowerGeneration"
   ]
  },
  {
   "cell_type": "code",
   "execution_count": 3,
   "id": "db39173c",
   "metadata": {},
   "outputs": [
    {
     "name": "stdout",
     "output_type": "stream",
     "text": [
      "Command excuted - CREATE DATABASE PowerGeneration;\n"
     ]
    }
   ],
   "source": [
    "# Create Database\n",
    "database_name = 'PowerGeneration'\n",
    "print(dm.createDatabase(mycursor, database_name))"
   ]
  },
  {
   "cell_type": "markdown",
   "id": "e6cff346",
   "metadata": {},
   "source": [
    "## 1.3 Use database\n",
    "\n",
    "Use the database PowerGeneration"
   ]
  },
  {
   "cell_type": "code",
   "execution_count": 4,
   "id": "6c2d1da5",
   "metadata": {},
   "outputs": [
    {
     "name": "stdout",
     "output_type": "stream",
     "text": [
      "Command excuted - USE PowerGeneration\n"
     ]
    }
   ],
   "source": [
    "# Use Database\n",
    "print(dm.useDatabase(mycursor, database_name))"
   ]
  },
  {
   "cell_type": "markdown",
   "id": "e3f86894",
   "metadata": {},
   "source": [
    "## 1.4 Create tables\n",
    "\n",
    "Create 4 tables for 4 csv files.\n",
    "- Plant_1_Generation_Data.csv\n",
    "- Plant_1_Weather_Sensor_Data.csv\n",
    "- Plant_2_Generation_Data.csv\n",
    "- Plant_2_Weather_Sensor_Data.csv."
   ]
  },
  {
   "cell_type": "code",
   "execution_count": 5,
   "id": "249c45ed",
   "metadata": {},
   "outputs": [
    {
     "name": "stdout",
     "output_type": "stream",
     "text": [
      "Command excuted - CREATE TABLE Plant_1_Generation_Data (\n",
      "        DATE_TIME TIMESTAMP,\n",
      "        PLANT_ID VARCHAR(512),\n",
      "        SOURCE_KEY VARCHAR(512),\n",
      "        DC_POWER DOUBLE UNSIGNED,\n",
      "        AC_POWER DOUBLE UNSIGNED,\n",
      "        DAILY_YIELD DOUBLE UNSIGNED,\n",
      "        TOTAL_YIELD DECIMAL(15,5) UNSIGNED   \n",
      "        )\n",
      "Command excuted - CREATE TABLE Plant_1_Weather_Sensor_Data (\n",
      "        DATE_TIME TIMESTAMP,\n",
      "        PLANT_ID VARCHAR(512),\n",
      "        SOURCE_KEY VARCHAR(512),\n",
      "        AMBIENT_TEMPERATURE DOUBLE,\n",
      "        MODULE_TEMPERATURE DOUBLE,\n",
      "        IRRADIATION DOUBLE  \n",
      "        )\n",
      "Command excuted - CREATE TABLE Plant_2_Generation_Data (\n",
      "        DATE_TIME TIMESTAMP,\n",
      "        PLANT_ID VARCHAR(512),\n",
      "        SOURCE_KEY VARCHAR(512),\n",
      "        DC_POWER DOUBLE UNSIGNED,\n",
      "        AC_POWER DOUBLE UNSIGNED,\n",
      "        DAILY_YIELD DOUBLE UNSIGNED,\n",
      "        TOTAL_YIELD DECIMAL(15,5) UNSIGNED   \n",
      "        )\n",
      "Command excuted - CREATE TABLE Plant_2_Weather_Sensor_Data (\n",
      "        DATE_TIME TIMESTAMP,\n",
      "        PLANT_ID VARCHAR(512),\n",
      "        SOURCE_KEY VARCHAR(512),\n",
      "        AMBIENT_TEMPERATURE DOUBLE,\n",
      "        MODULE_TEMPERATURE DOUBLE,\n",
      "        IRRADIATION DOUBLE  \n",
      "        )\n"
     ]
    }
   ],
   "source": [
    "# Open File and create table\n",
    "file_path = '/data/PowerGeneration/'\n",
    "file_names = ['Plant_1_Generation_Data.csv', 'Plant_1_Weather_Sensor_Data.csv', 'Plant_2_Generation_Data.csv', 'Plant_2_Weather_Sensor_Data.csv']\n",
    "for file_name in file_names:\n",
    "    # Open File\n",
    "    file, csv_data = dm.openFile(file_name, ',')\n",
    "    \n",
    "    # Find column names\n",
    "    column_names = next(csv_data)\n",
    "    \n",
    "    # Find table names\n",
    "    table_name = file_name.split('.')[0]\n",
    "    \n",
    "    # Create table\n",
    "    print(dm.createTable(mycursor, column_names, table_name))\n",
    "    "
   ]
  },
  {
   "cell_type": "markdown",
   "id": "7eec3a78",
   "metadata": {},
   "source": [
    "## 1.5 Load data from Plant_1_Generation_Data.csv to the table"
   ]
  },
  {
   "cell_type": "code",
   "execution_count": 6,
   "id": "8771c9c1",
   "metadata": {},
   "outputs": [
    {
     "name": "stdout",
     "output_type": "stream",
     "text": [
      "Command excuted - LOAD DATA INFILE '/data/PowerGeneration/Plant_1_Generation_Data.csv' \n",
      "    INTO TABLE Plant_1_Generation_Data\n",
      "    FIELDS TERMINATED BY ',' \n",
      "    ENCLOSED BY '\"'\n",
      "    LINES TERMINATED BY '\n",
      "'\n",
      "    IGNORE 1 ROWS\n",
      "    (@DATE_TIME,  PLANT_ID, SOURCE_KEY, DC_POWER, AC_POWER, DAILY_YIELD, TOTAL_YIELD) \n",
      "    SET DATE_TIME = STR_TO_DATE(@DATE_TIME,'%d-%m-%Y %H:%i');\n",
      "    \n"
     ]
    }
   ],
   "source": [
    "# Load data from Plant_1_Generation_Data.csv to the tables\n",
    "file_path = '/data/PowerGeneration/Plant_1_Generation_Data.csv'\n",
    "table_name = 'Plant_1_Generation_Data'\n",
    "#column_names = ' PLANT_ID, SOURCE_KEY, AMBIENT_TEMPERATURE, MODULE_TEMPERATURE, IRRADIATION)'\n",
    "column_names = ' PLANT_ID, SOURCE_KEY, DC_POWER, AC_POWER, DAILY_YIELD, TOTAL_YIELD)'\n",
    "datetime_format = '%d-%m-%Y %H:%i'\n",
    "\n",
    "print(dm.importData(mycursor, file_path, table_name, column_names, datetime_format))"
   ]
  },
  {
   "cell_type": "markdown",
   "id": "7d996d56",
   "metadata": {},
   "source": [
    "## 1.6 Load data from Plant_2_Generation_Data.csv to the table"
   ]
  },
  {
   "cell_type": "code",
   "execution_count": 7,
   "id": "fdb6aada",
   "metadata": {},
   "outputs": [
    {
     "name": "stdout",
     "output_type": "stream",
     "text": [
      "Command excuted - LOAD DATA INFILE '/data/PowerGeneration/Plant_2_Generation_Data.csv' \n",
      "    INTO TABLE Plant_2_Generation_Data\n",
      "    FIELDS TERMINATED BY ',' \n",
      "    ENCLOSED BY '\"'\n",
      "    LINES TERMINATED BY '\n",
      "'\n",
      "    IGNORE 1 ROWS\n",
      "    (@DATE_TIME,  PLANT_ID, SOURCE_KEY, DC_POWER, AC_POWER, DAILY_YIELD, TOTAL_YIELD) \n",
      "    SET DATE_TIME = STR_TO_DATE(@DATE_TIME,'%Y-%m-%d %H:%i:%s');\n",
      "    \n"
     ]
    }
   ],
   "source": [
    "# Load data from Plant_2_Generation_Data.csv to the tables\n",
    "file_path = '/data/PowerGeneration/Plant_2_Generation_Data.csv'\n",
    "table_name = 'Plant_2_Generation_Data'\n",
    "#column_names = ' PLANT_ID, SOURCE_KEY, AMBIENT_TEMPERATURE, MODULE_TEMPERATURE, IRRADIATION)'\n",
    "column_names = ' PLANT_ID, SOURCE_KEY, DC_POWER, AC_POWER, DAILY_YIELD, TOTAL_YIELD)'\n",
    "datetime_format = '%Y-%m-%d %H:%i:%s'\n",
    "\n",
    "print(dm.importData(mycursor, file_path, table_name, column_names, datetime_format))\n"
   ]
  },
  {
   "cell_type": "markdown",
   "id": "f841ac03",
   "metadata": {},
   "source": [
    "## 1.7 Load data from Plant_1_Weather_Sensor_Data.csv to the table"
   ]
  },
  {
   "cell_type": "code",
   "execution_count": 8,
   "id": "206ef43e",
   "metadata": {},
   "outputs": [
    {
     "name": "stdout",
     "output_type": "stream",
     "text": [
      "Command excuted - LOAD DATA INFILE '/data/PowerGeneration/Plant_1_Weather_Sensor_Data.csv' \n",
      "    INTO TABLE Plant_1_Weather_Sensor_Data\n",
      "    FIELDS TERMINATED BY ',' \n",
      "    ENCLOSED BY '\"'\n",
      "    LINES TERMINATED BY '\n",
      "'\n",
      "    IGNORE 1 ROWS\n",
      "    (@DATE_TIME,  PLANT_ID, SOURCE_KEY, AMBIENT_TEMPERATURE, MODULE_TEMPERATURE, IRRADIATION) \n",
      "    SET DATE_TIME = STR_TO_DATE(@DATE_TIME,'%Y-%m-%d %H:%i:%s');\n",
      "    \n"
     ]
    }
   ],
   "source": [
    "# Load data from Plant_1_Weather_Sensor_Data.csv to the tables\n",
    "file_path = '/data/PowerGeneration/Plant_1_Weather_Sensor_Data.csv'\n",
    "table_name = 'Plant_1_Weather_Sensor_Data'\n",
    "column_names = ' PLANT_ID, SOURCE_KEY, AMBIENT_TEMPERATURE, MODULE_TEMPERATURE, IRRADIATION)'\n",
    "#column_names = ' PLANT_ID, SOURCE_KEY, DC_POWER, AC_POWER, DAILY_YIELD, TOTAL_YIELD)'\n",
    "datetime_format = '%Y-%m-%d %H:%i:%s'\n",
    "\n",
    "print(dm.importData(mycursor, file_path, table_name, column_names, datetime_format))"
   ]
  },
  {
   "cell_type": "markdown",
   "id": "67bbbbc0",
   "metadata": {},
   "source": [
    "## 1.8 Load data from Plant_2_Weather_Sensor_Data.csv to the table"
   ]
  },
  {
   "cell_type": "code",
   "execution_count": 9,
   "id": "476fa147",
   "metadata": {},
   "outputs": [
    {
     "name": "stdout",
     "output_type": "stream",
     "text": [
      "Command excuted - LOAD DATA INFILE '/data/PowerGeneration/Plant_2_Weather_Sensor_Data.csv' \n",
      "    INTO TABLE Plant_2_Weather_Sensor_Data\n",
      "    FIELDS TERMINATED BY ',' \n",
      "    ENCLOSED BY '\"'\n",
      "    LINES TERMINATED BY '\n",
      "'\n",
      "    IGNORE 1 ROWS\n",
      "    (@DATE_TIME,  PLANT_ID, SOURCE_KEY, AMBIENT_TEMPERATURE, MODULE_TEMPERATURE, IRRADIATION) \n",
      "    SET DATE_TIME = STR_TO_DATE(@DATE_TIME,'%Y-%m-%d %H:%i:%s');\n",
      "    \n"
     ]
    }
   ],
   "source": [
    "# Load data from Plant_2_Weather_Sensor_Data.csv to the tables\n",
    "file_path = '/data/PowerGeneration/Plant_2_Weather_Sensor_Data.csv'\n",
    "table_name = 'Plant_2_Weather_Sensor_Data'\n",
    "column_names = ' PLANT_ID, SOURCE_KEY, AMBIENT_TEMPERATURE, MODULE_TEMPERATURE, IRRADIATION)'\n",
    "#column_names = ' PLANT_ID, SOURCE_KEY, DC_POWER, AC_POWER, DAILY_YIELD, TOTAL_YIELD)'\n",
    "datetime_format = '%Y-%m-%d %H:%i:%s'\n",
    "\n",
    "print(dm.importData(mycursor, file_path, table_name, column_names, datetime_format))"
   ]
  },
  {
   "cell_type": "markdown",
   "id": "7a479586",
   "metadata": {},
   "source": [
    "## 1.9 Commit and close the MySQL cursor and connection."
   ]
  },
  {
   "cell_type": "code",
   "execution_count": 10,
   "id": "1a9e49a7",
   "metadata": {},
   "outputs": [],
   "source": [
    "# Commit command\n",
    "db_connection.commit()"
   ]
  },
  {
   "cell_type": "code",
   "execution_count": 11,
   "id": "08fe91b8",
   "metadata": {},
   "outputs": [],
   "source": [
    "# Close cursor\n",
    "mycursor.close()\n",
    "\n",
    "# Close connection\n",
    "db_connection.close()"
   ]
  },
  {
   "cell_type": "markdown",
   "id": "63342566",
   "metadata": {},
   "source": [
    "# 2. Data Cleaning"
   ]
  },
  {
   "cell_type": "code",
   "execution_count": null,
   "id": "ea34cffc",
   "metadata": {},
   "outputs": [],
   "source": [
    "import pandas as pd\n",
    "from sqlalchemy import create_engine\n",
    "import datamanagement as dm\n",
    "import json"
   ]
  },
  {
   "cell_type": "code",
   "execution_count": null,
   "id": "2bc1d240",
   "metadata": {},
   "outputs": [],
   "source": [
    "# Set no row limit for displaying dataframe\n",
    "pd.set_option('display.max_rows', None)"
   ]
  },
  {
   "cell_type": "markdown",
   "id": "7b52933d",
   "metadata": {},
   "source": [
    "## 2.1 Connect to MySQL server"
   ]
  },
  {
   "cell_type": "code",
   "execution_count": null,
   "id": "7a28bc02",
   "metadata": {},
   "outputs": [],
   "source": [
    "# Use a JSON file to hide MySQL credentials a little bit.\n",
    "parameters_file = open('MySQLparameter.json')\n",
    "parameters_value = json.load(parameters_file)\n",
    "parameters_file.close()\n",
    "\n",
    "db_str = ('mysql://{user}:{password}@{host}:{port}').format(**parameters_value)\n",
    "\n",
    "# Create the connection\n",
    "db_connection = create_engine(db_str)"
   ]
  },
  {
   "cell_type": "code",
   "execution_count": null,
   "id": "bede171b",
   "metadata": {},
   "outputs": [],
   "source": [
    "## 2.2 Use database\n",
    "\n",
    "Use database named PowerGeneration"
   ]
  },
  {
   "cell_type": "code",
   "execution_count": null,
   "id": "75becb37",
   "metadata": {},
   "outputs": [],
   "source": [
    "# Use database\n",
    "database_name = 'PowerGeneration'\n",
    "command = \"USE {}\".format(database_name)\n",
    "mycursor = db_connection.execute(command)"
   ]
  },
  {
   "cell_type": "markdown",
   "id": "cf3d79e4",
   "metadata": {},
   "source": [
    "## 2.3 Query data from the 4 tables.\n",
    "\n",
    "### 2.3.1 Query data from Plant_1_Generation_Data table"
   ]
  },
  {
   "cell_type": "code",
   "execution_count": null,
   "id": "81e79f9f",
   "metadata": {},
   "outputs": [],
   "source": [
    "table_name = 'Plant_1_Generation_Data'\n",
    "df_g1 = pd.read_sql('SELECT * FROM {}'.format(table_name), con=db_connection)\n",
    "display(df_g1.head(5))"
   ]
  },
  {
   "cell_type": "markdown",
   "id": "6fe3ce1c",
   "metadata": {},
   "source": [
    "### 2.3.2 Query data from Plant_2_Generation_Data table"
   ]
  },
  {
   "cell_type": "code",
   "execution_count": null,
   "id": "09ac6197",
   "metadata": {},
   "outputs": [],
   "source": [
    "table_name = 'Plant_2_Generation_Data'\n",
    "df_g2 = pd.read_sql('SELECT * FROM {}'.format(table_name), con=db_connection)\n",
    "display(df_g2.head(5))"
   ]
  },
  {
   "cell_type": "markdown",
   "id": "b6639a4e",
   "metadata": {},
   "source": [
    "### 2.3.3 Query data from Plant_1_Weather_Sensor_Data table"
   ]
  },
  {
   "cell_type": "code",
   "execution_count": null,
   "id": "ef091c20",
   "metadata": {},
   "outputs": [],
   "source": [
    "table_name = 'Plant_1_Weather_Sensor_Data'\n",
    "df_w1 = pd.read_sql('SELECT * FROM {}'.format(table_name), con=db_connection)\n",
    "display(df_w1.head(5))"
   ]
  },
  {
   "cell_type": "markdown",
   "id": "0d58283f",
   "metadata": {},
   "source": [
    "### 2.3.4 Query data from Plant_2_Weather_Sensor_Data table"
   ]
  },
  {
   "cell_type": "code",
   "execution_count": null,
   "id": "808db7e7",
   "metadata": {},
   "outputs": [],
   "source": [
    "table_name = 'Plant_2_Weather_Sensor_Data'\n",
    "df_w2 = pd.read_sql('SELECT * FROM {}'.format(table_name), con=db_connection)\n",
    "display(df_w2.head(5))"
   ]
  },
  {
   "cell_type": "markdown",
   "id": "f6cb2ad9",
   "metadata": {},
   "source": [
    "## 2.3 Visualize the table\n",
    "\n",
    "### 2.3.1 Check for null values and datatypes of every columns."
   ]
  },
  {
   "cell_type": "code",
   "execution_count": null,
   "id": "2e35b9b5",
   "metadata": {},
   "outputs": [],
   "source": [
    "df_list = [df_g1, df_g2, df_w1, df_w2]\n",
    "for df in df_list:\n",
    "    display(df.info())\n",
    "    "
   ]
  },
  {
   "cell_type": "markdown",
   "id": "eb860c0f",
   "metadata": {},
   "source": [
    "No null values and the datatypes are correct."
   ]
  },
  {
   "cell_type": "markdown",
   "id": "dc330e1c",
   "metadata": {},
   "source": [
    "### 2.3.2 Check for frequency, top, mean, max, min"
   ]
  },
  {
   "cell_type": "code",
   "execution_count": null,
   "id": "2e8f5fef",
   "metadata": {},
   "outputs": [],
   "source": [
    "for df in df_list:\n",
    "    display(df.describe(include='all'))\n",
    "    "
   ]
  },
  {
   "cell_type": "markdown",
   "id": "0fa2c2f9",
   "metadata": {},
   "source": [
    "The data looks fine. Even though the maximum values of DC_POWER, AC_POWER, DAILY_YIELD and TOTAL_YIELD are very different from 50% values, in my opinion it is very normal because usually dynamic data such as power has very shape peaks. "
   ]
  },
  {
   "cell_type": "markdown",
   "id": "0d4a506d",
   "metadata": {},
   "source": [
    "## 2.4 Merging and concating each table.\n",
    "\n",
    "SOURCE_KEY from generation file is inverter ID, but SOURCE_KEY from weather file is weather sensor ID. So we need to change the column names."
   ]
  },
  {
   "cell_type": "markdown",
   "id": "32b373f8",
   "metadata": {},
   "source": [
    "### 2.4.1 Merging generation data and weather data from plant1."
   ]
  },
  {
   "cell_type": "code",
   "execution_count": null,
   "id": "1ef4eaa2",
   "metadata": {},
   "outputs": [],
   "source": [
    "suffixes = ('_INVERTER', '_SENSOR')\n",
    "df_1 = df_g1.merge(df_w1, left_on=['DATE_TIME', 'PLANT_ID'], right_on=['DATE_TIME', 'PLANT_ID'], how='inner', suffixes=suffixes)\n",
    "display(df_1.head())"
   ]
  },
  {
   "cell_type": "code",
   "execution_count": null,
   "id": "f5856dd9",
   "metadata": {},
   "outputs": [],
   "source": [
    "display(df_1.describe(include='all'))"
   ]
  },
  {
   "cell_type": "markdown",
   "id": "4d4d37e8",
   "metadata": {},
   "source": [
    "### 2.4.2 Merging generation data and weather data from plant2."
   ]
  },
  {
   "cell_type": "code",
   "execution_count": null,
   "id": "4313d1ba",
   "metadata": {},
   "outputs": [],
   "source": [
    "suffixes = ('_INVERTER', '_SENSOR')\n",
    "df_2 = df_g2.merge(df_w2, left_on=['DATE_TIME', 'PLANT_ID'], right_on=['DATE_TIME', 'PLANT_ID'], how='inner', suffixes=suffixes)\n",
    "display(df_2.head())"
   ]
  },
  {
   "cell_type": "code",
   "execution_count": null,
   "id": "78f45103",
   "metadata": {},
   "outputs": [],
   "source": [
    "display(df_2.describe(include='all'))"
   ]
  },
  {
   "cell_type": "markdown",
   "id": "34275b1d",
   "metadata": {},
   "source": [
    "### 2.4.3 Concating data from both plants."
   ]
  },
  {
   "cell_type": "code",
   "execution_count": null,
   "id": "df3897a1",
   "metadata": {},
   "outputs": [],
   "source": [
    "df_all = pd.concat([df_1, df_2])\n",
    "display(df_all.head())"
   ]
  },
  {
   "cell_type": "markdown",
   "id": "9f8ff4cc",
   "metadata": {},
   "source": [
    "## 2.5 Seperate DATE_TIME column to DATE and TIME columns."
   ]
  },
  {
   "cell_type": "code",
   "execution_count": null,
   "id": "3e49dedb",
   "metadata": {},
   "outputs": [],
   "source": [
    "df_all['DATE'] = [df.date() for df in df_all['DATE_TIME']]\n",
    "df_all['TIME'] = [df.time() for df in df_all['DATE_TIME']]\n",
    "display(df_all.head())"
   ]
  },
  {
   "cell_type": "markdown",
   "id": "501d58c2",
   "metadata": {},
   "source": [
    "## 2.6 Check datatype of every column."
   ]
  },
  {
   "cell_type": "code",
   "execution_count": null,
   "id": "eef4deac",
   "metadata": {},
   "outputs": [],
   "source": [
    "df_all.info()"
   ]
  },
  {
   "cell_type": "markdown",
   "id": "8106e894",
   "metadata": {},
   "source": [
    "## 2.7 Change datatype of DATE column from object to datatime."
   ]
  },
  {
   "cell_type": "code",
   "execution_count": null,
   "id": "458bc803",
   "metadata": {},
   "outputs": [],
   "source": [
    "df_all['DATE'] = pd.to_datetime(df_all['DATE'])"
   ]
  },
  {
   "cell_type": "code",
   "execution_count": null,
   "id": "e7cbdc95",
   "metadata": {},
   "outputs": [],
   "source": [
    "# Recheck\n",
    "df_all.info()"
   ]
  },
  {
   "cell_type": "markdown",
   "id": "edab0d5e",
   "metadata": {},
   "source": [
    "## 2.8 Export data to MySQL sever."
   ]
  },
  {
   "cell_type": "code",
   "execution_count": null,
   "id": "e72eabda",
   "metadata": {},
   "outputs": [],
   "source": [
    "table_name = 'Plant_All'\n",
    "dm.fromPDtoMySQL(db_connection, df_all, table_name)"
   ]
  },
  {
   "cell_type": "markdown",
   "id": "dc0670b6",
   "metadata": {},
   "source": [
    "Check the table after done with importing."
   ]
  },
  {
   "cell_type": "code",
   "execution_count": null,
   "id": "b30d3bfc",
   "metadata": {},
   "outputs": [],
   "source": [
    "df_temp = pd.read_sql('SELECT * FROM {}'.format(table_name), con=db_connection)\n",
    "display(df_temp.head())"
   ]
  },
  {
   "cell_type": "markdown",
   "id": "632e917a",
   "metadata": {},
   "source": [
    "## 2.9 close the MySQL cursor and connection."
   ]
  },
  {
   "cell_type": "code",
   "execution_count": null,
   "id": "9b61c0e6",
   "metadata": {},
   "outputs": [],
   "source": [
    "# Close cursor\n",
    "mycursor.close()"
   ]
  },
  {
   "cell_type": "markdown",
   "id": "3552830b",
   "metadata": {},
   "source": [
    "# 3. Data Analyse"
   ]
  },
  {
   "cell_type": "code",
   "execution_count": null,
   "id": "5bdcc462",
   "metadata": {},
   "outputs": [],
   "source": [
    "# Set no row limit for displaying dataframe\n",
    "pd.set_option('display.max_rows', None)\n",
    "# Turn off warning\n",
    "pd.options.mode.chained_assignment = None  # default='warn'"
   ]
  },
  {
   "cell_type": "markdown",
   "id": "4c240deb",
   "metadata": {},
   "source": [
    "## 3.1 Connect to MySQL server"
   ]
  },
  {
   "cell_type": "code",
   "execution_count": null,
   "id": "92c9c390",
   "metadata": {},
   "outputs": [],
   "source": [
    "# Use a JSON file to hide MySQL credentials a little bit.\n",
    "parameters_file = open('MySQLparameter.json')\n",
    "parameters_value = json.load(parameters_file)\n",
    "parameters_file.close()\n",
    "\n",
    "db_str = ('mysql://{user}:{password}@{host}:{port}').format(**parameters_value)\n",
    "\n",
    "# Create the connection\n",
    "db_connection = create_engine(db_str)"
   ]
  },
  {
   "cell_type": "markdown",
   "id": "933faf85",
   "metadata": {},
   "source": [
    "## 3.2 Use database\n",
    "\n",
    "Use database named PowerGeneration"
   ]
  },
  {
   "cell_type": "code",
   "execution_count": null,
   "id": "c277e61b",
   "metadata": {},
   "outputs": [],
   "source": [
    "# Use database\n",
    "database_name = 'PowerGeneration'\n",
    "command = \"USE {}\".format(database_name)\n",
    "mycursor = db_connection.execute(command)"
   ]
  },
  {
   "cell_type": "markdown",
   "id": "3bd2f881",
   "metadata": {},
   "source": [
    "## 3.3 Query data from Plant_All table"
   ]
  },
  {
   "cell_type": "code",
   "execution_count": null,
   "id": "0b323cad",
   "metadata": {},
   "outputs": [],
   "source": [
    "table_name = 'Plant_All'\n",
    "df_all = pd.read_sql('SELECT * FROM {}'.format(table_name), con=db_connection)\n",
    "display(df_all.head())"
   ]
  },
  {
   "cell_type": "code",
   "execution_count": null,
   "id": "c6238933",
   "metadata": {},
   "outputs": [],
   "source": []
  },
  {
   "cell_type": "code",
   "execution_count": null,
   "id": "380cabfd",
   "metadata": {},
   "outputs": [],
   "source": []
  },
  {
   "cell_type": "code",
   "execution_count": null,
   "id": "184d90db",
   "metadata": {},
   "outputs": [],
   "source": []
  }
 ],
 "metadata": {
  "kernelspec": {
   "display_name": "Python 3 (ipykernel)",
   "language": "python",
   "name": "python3"
  },
  "language_info": {
   "codemirror_mode": {
    "name": "ipython",
    "version": 3
   },
   "file_extension": ".py",
   "mimetype": "text/x-python",
   "name": "python",
   "nbconvert_exporter": "python",
   "pygments_lexer": "ipython3",
   "version": "3.8.11"
  }
 },
 "nbformat": 4,
 "nbformat_minor": 5
}
