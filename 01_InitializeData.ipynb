{
 "cells": [
  {
   "cell_type": "markdown",
   "id": "a028ad4f",
   "metadata": {},
   "source": [
    "# Intro to Data Management with Python\n",
    "# Sketch an analysis for Solar Power Generation Dataset\n",
    "\n",
    "Kritkorn Supyen (Data Enginering, Jacobs University Bremen)"
   ]
  },
  {
   "cell_type": "markdown",
   "id": "8dbea9ca",
   "metadata": {},
   "source": [
    "# 1. Initialize Data"
   ]
  },
  {
   "cell_type": "code",
   "execution_count": 1,
   "id": "e8e9fdb3",
   "metadata": {},
   "outputs": [],
   "source": [
    "import mysql.connector\n",
    "import datamanagement as dm\n",
    "import re\n",
    "import json"
   ]
  },
  {
   "cell_type": "markdown",
   "id": "d8583113",
   "metadata": {},
   "source": [
    "## 1.1 Connect to MySQL server"
   ]
  },
  {
   "cell_type": "code",
   "execution_count": 2,
   "id": "120c8e34",
   "metadata": {},
   "outputs": [],
   "source": [
    "# Use a JSON file to hide MySQL credentials a little bit.\n",
    "parameters_file = open('MySQLparameter.json')\n",
    "parameters_value = json.load(parameters_file)\n",
    "parameters_file.close()\n",
    "\n",
    "db_connection, mycursor = dm.connectServer(**parameters_value)"
   ]
  },
  {
   "cell_type": "markdown",
   "id": "5d658f42",
   "metadata": {},
   "source": [
    "## 1.2 Create database\n",
    "\n",
    "Create a database named PowerGeneration"
   ]
  },
  {
   "cell_type": "code",
   "execution_count": 3,
   "id": "db39173c",
   "metadata": {},
   "outputs": [
    {
     "name": "stdout",
     "output_type": "stream",
     "text": [
      "Command excuted - CREATE DATABASE PowerGeneration;\n"
     ]
    }
   ],
   "source": [
    "# Create Database\n",
    "database_name = 'PowerGeneration'\n",
    "print(dm.createDatabase(mycursor, database_name))"
   ]
  },
  {
   "cell_type": "markdown",
   "id": "e6cff346",
   "metadata": {},
   "source": [
    "## 1.3 Use database\n",
    "\n",
    "Use the database PowerGeneration"
   ]
  },
  {
   "cell_type": "code",
   "execution_count": 4,
   "id": "6c2d1da5",
   "metadata": {},
   "outputs": [
    {
     "name": "stdout",
     "output_type": "stream",
     "text": [
      "Command excuted - USE PowerGeneration\n"
     ]
    }
   ],
   "source": [
    "# Use Database\n",
    "print(dm.useDatabase(mycursor, database_name))"
   ]
  },
  {
   "cell_type": "markdown",
   "id": "e3f86894",
   "metadata": {},
   "source": [
    "## 1.4 Create tables\n",
    "\n",
    "Create 4 tables for 4 csv files.\n",
    "- Plant_1_Generation_Data.csv\n",
    "- Plant_1_Weather_Sensor_Data.csv\n",
    "- Plant_2_Generation_Data.csv\n",
    "- Plant_2_Weather_Sensor_Data.csv."
   ]
  },
  {
   "cell_type": "code",
   "execution_count": 5,
   "id": "249c45ed",
   "metadata": {},
   "outputs": [
    {
     "name": "stdout",
     "output_type": "stream",
     "text": [
      "Command excuted - CREATE TABLE Plant_1_Generation_Data (\n",
      "        DATE_TIME TIMESTAMP,\n",
      "        PLANT_ID VARCHAR(512),\n",
      "        SOURCE_KEY VARCHAR(512),\n",
      "        DC_POWER DOUBLE UNSIGNED,\n",
      "        AC_POWER DOUBLE UNSIGNED,\n",
      "        DAILY_YIELD DOUBLE UNSIGNED,\n",
      "        TOTAL_YIELD DECIMAL(15,5) UNSIGNED   \n",
      "        )\n",
      "Command excuted - CREATE TABLE Plant_1_Weather_Sensor_Data (\n",
      "        DATE_TIME TIMESTAMP,\n",
      "        PLANT_ID VARCHAR(512),\n",
      "        SOURCE_KEY VARCHAR(512),\n",
      "        AMBIENT_TEMPERATURE DOUBLE,\n",
      "        MODULE_TEMPERATURE DOUBLE,\n",
      "        IRRADIATION DOUBLE  \n",
      "        )\n",
      "Command excuted - CREATE TABLE Plant_2_Generation_Data (\n",
      "        DATE_TIME TIMESTAMP,\n",
      "        PLANT_ID VARCHAR(512),\n",
      "        SOURCE_KEY VARCHAR(512),\n",
      "        DC_POWER DOUBLE UNSIGNED,\n",
      "        AC_POWER DOUBLE UNSIGNED,\n",
      "        DAILY_YIELD DOUBLE UNSIGNED,\n",
      "        TOTAL_YIELD DECIMAL(15,5) UNSIGNED   \n",
      "        )\n",
      "Command excuted - CREATE TABLE Plant_2_Weather_Sensor_Data (\n",
      "        DATE_TIME TIMESTAMP,\n",
      "        PLANT_ID VARCHAR(512),\n",
      "        SOURCE_KEY VARCHAR(512),\n",
      "        AMBIENT_TEMPERATURE DOUBLE,\n",
      "        MODULE_TEMPERATURE DOUBLE,\n",
      "        IRRADIATION DOUBLE  \n",
      "        )\n"
     ]
    }
   ],
   "source": [
    "# Open File and create table\n",
    "file_path = '/data/PowerGeneration/'\n",
    "file_names = ['Plant_1_Generation_Data.csv', 'Plant_1_Weather_Sensor_Data.csv', 'Plant_2_Generation_Data.csv', 'Plant_2_Weather_Sensor_Data.csv']\n",
    "for file_name in file_names:\n",
    "    # Open File\n",
    "    file, csv_data = dm.openFile(file_name, ',')\n",
    "    \n",
    "    # Find column names\n",
    "    column_names = next(csv_data)\n",
    "    \n",
    "    # Find table names\n",
    "    table_name = file_name.split('.')[0]\n",
    "    \n",
    "    # Create table\n",
    "    print(dm.createTable(mycursor, column_names, table_name))\n",
    "    "
   ]
  },
  {
   "cell_type": "markdown",
   "id": "7eec3a78",
   "metadata": {},
   "source": [
    "## 1.5 Load data from Plant_1_Generation_Data.csv to the table"
   ]
  },
  {
   "cell_type": "code",
   "execution_count": 6,
   "id": "8771c9c1",
   "metadata": {},
   "outputs": [
    {
     "name": "stdout",
     "output_type": "stream",
     "text": [
      "Command excuted - LOAD DATA INFILE '/data/PowerGeneration/Plant_1_Generation_Data.csv' \n",
      "    INTO TABLE Plant_1_Generation_Data\n",
      "    FIELDS TERMINATED BY ',' \n",
      "    ENCLOSED BY '\"'\n",
      "    LINES TERMINATED BY '\n",
      "'\n",
      "    IGNORE 1 ROWS\n",
      "    (@DATE_TIME,  PLANT_ID, SOURCE_KEY, DC_POWER, AC_POWER, DAILY_YIELD, TOTAL_YIELD) \n",
      "    SET DATE_TIME = STR_TO_DATE(@DATE_TIME,'%d-%m-%Y %H:%i');\n",
      "    \n"
     ]
    }
   ],
   "source": [
    "# Load data from Plant_1_Generation_Data.csv to the tables\n",
    "file_path = '/data/PowerGeneration/Plant_1_Generation_Data.csv'\n",
    "table_name = 'Plant_1_Generation_Data'\n",
    "#column_names = ' PLANT_ID, SOURCE_KEY, AMBIENT_TEMPERATURE, MODULE_TEMPERATURE, IRRADIATION)'\n",
    "column_names = ' PLANT_ID, SOURCE_KEY, DC_POWER, AC_POWER, DAILY_YIELD, TOTAL_YIELD)'\n",
    "datetime_format = '%d-%m-%Y %H:%i'\n",
    "\n",
    "print(dm.importData(mycursor, file_path, table_name, column_names, datetime_format))"
   ]
  },
  {
   "cell_type": "markdown",
   "id": "7d996d56",
   "metadata": {},
   "source": [
    "## 1.6 Load data from Plant_2_Generation_Data.csv to the table"
   ]
  },
  {
   "cell_type": "code",
   "execution_count": 7,
   "id": "fdb6aada",
   "metadata": {},
   "outputs": [
    {
     "name": "stdout",
     "output_type": "stream",
     "text": [
      "Command excuted - LOAD DATA INFILE '/data/PowerGeneration/Plant_2_Generation_Data.csv' \n",
      "    INTO TABLE Plant_2_Generation_Data\n",
      "    FIELDS TERMINATED BY ',' \n",
      "    ENCLOSED BY '\"'\n",
      "    LINES TERMINATED BY '\n",
      "'\n",
      "    IGNORE 1 ROWS\n",
      "    (@DATE_TIME,  PLANT_ID, SOURCE_KEY, DC_POWER, AC_POWER, DAILY_YIELD, TOTAL_YIELD) \n",
      "    SET DATE_TIME = STR_TO_DATE(@DATE_TIME,'%Y-%m-%d %H:%i:%s');\n",
      "    \n"
     ]
    }
   ],
   "source": [
    "# Load data from Plant_2_Generation_Data.csv to the tables\n",
    "file_path = '/data/PowerGeneration/Plant_2_Generation_Data.csv'\n",
    "table_name = 'Plant_2_Generation_Data'\n",
    "#column_names = ' PLANT_ID, SOURCE_KEY, AMBIENT_TEMPERATURE, MODULE_TEMPERATURE, IRRADIATION)'\n",
    "column_names = ' PLANT_ID, SOURCE_KEY, DC_POWER, AC_POWER, DAILY_YIELD, TOTAL_YIELD)'\n",
    "datetime_format = '%Y-%m-%d %H:%i:%s'\n",
    "\n",
    "print(dm.importData(mycursor, file_path, table_name, column_names, datetime_format))\n"
   ]
  },
  {
   "cell_type": "markdown",
   "id": "f841ac03",
   "metadata": {},
   "source": [
    "## 1.7 Load data from Plant_1_Weather_Sensor_Data.csv to the table"
   ]
  },
  {
   "cell_type": "code",
   "execution_count": 8,
   "id": "206ef43e",
   "metadata": {},
   "outputs": [
    {
     "name": "stdout",
     "output_type": "stream",
     "text": [
      "Command excuted - LOAD DATA INFILE '/data/PowerGeneration/Plant_1_Weather_Sensor_Data.csv' \n",
      "    INTO TABLE Plant_1_Weather_Sensor_Data\n",
      "    FIELDS TERMINATED BY ',' \n",
      "    ENCLOSED BY '\"'\n",
      "    LINES TERMINATED BY '\n",
      "'\n",
      "    IGNORE 1 ROWS\n",
      "    (@DATE_TIME,  PLANT_ID, SOURCE_KEY, AMBIENT_TEMPERATURE, MODULE_TEMPERATURE, IRRADIATION) \n",
      "    SET DATE_TIME = STR_TO_DATE(@DATE_TIME,'%Y-%m-%d %H:%i:%s');\n",
      "    \n"
     ]
    }
   ],
   "source": [
    "# Load data from Plant_1_Weather_Sensor_Data.csv to the tables\n",
    "file_path = '/data/PowerGeneration/Plant_1_Weather_Sensor_Data.csv'\n",
    "table_name = 'Plant_1_Weather_Sensor_Data'\n",
    "column_names = ' PLANT_ID, SOURCE_KEY, AMBIENT_TEMPERATURE, MODULE_TEMPERATURE, IRRADIATION)'\n",
    "#column_names = ' PLANT_ID, SOURCE_KEY, DC_POWER, AC_POWER, DAILY_YIELD, TOTAL_YIELD)'\n",
    "datetime_format = '%Y-%m-%d %H:%i:%s'\n",
    "\n",
    "print(dm.importData(mycursor, file_path, table_name, column_names, datetime_format))"
   ]
  },
  {
   "cell_type": "markdown",
   "id": "67bbbbc0",
   "metadata": {},
   "source": [
    "## 1.8 Load data from Plant_2_Weather_Sensor_Data.csv to the table"
   ]
  },
  {
   "cell_type": "code",
   "execution_count": 9,
   "id": "476fa147",
   "metadata": {},
   "outputs": [
    {
     "name": "stdout",
     "output_type": "stream",
     "text": [
      "Command excuted - LOAD DATA INFILE '/data/PowerGeneration/Plant_2_Weather_Sensor_Data.csv' \n",
      "    INTO TABLE Plant_2_Weather_Sensor_Data\n",
      "    FIELDS TERMINATED BY ',' \n",
      "    ENCLOSED BY '\"'\n",
      "    LINES TERMINATED BY '\n",
      "'\n",
      "    IGNORE 1 ROWS\n",
      "    (@DATE_TIME,  PLANT_ID, SOURCE_KEY, AMBIENT_TEMPERATURE, MODULE_TEMPERATURE, IRRADIATION) \n",
      "    SET DATE_TIME = STR_TO_DATE(@DATE_TIME,'%Y-%m-%d %H:%i:%s');\n",
      "    \n"
     ]
    }
   ],
   "source": [
    "# Load data from Plant_2_Weather_Sensor_Data.csv to the tables\n",
    "file_path = '/data/PowerGeneration/Plant_2_Weather_Sensor_Data.csv'\n",
    "table_name = 'Plant_2_Weather_Sensor_Data'\n",
    "column_names = ' PLANT_ID, SOURCE_KEY, AMBIENT_TEMPERATURE, MODULE_TEMPERATURE, IRRADIATION)'\n",
    "#column_names = ' PLANT_ID, SOURCE_KEY, DC_POWER, AC_POWER, DAILY_YIELD, TOTAL_YIELD)'\n",
    "datetime_format = '%Y-%m-%d %H:%i:%s'\n",
    "\n",
    "print(dm.importData(mycursor, file_path, table_name, column_names, datetime_format))"
   ]
  },
  {
   "cell_type": "markdown",
   "id": "7a479586",
   "metadata": {},
   "source": [
    "## 1.9 Commit and close the MySQL cursor and connection."
   ]
  },
  {
   "cell_type": "code",
   "execution_count": 10,
   "id": "1a9e49a7",
   "metadata": {},
   "outputs": [],
   "source": [
    "# Commit command\n",
    "db_connection.commit()"
   ]
  },
  {
   "cell_type": "code",
   "execution_count": 11,
   "id": "08fe91b8",
   "metadata": {},
   "outputs": [],
   "source": [
    "# Close cursor\n",
    "mycursor.close()\n",
    "\n",
    "# Close connection\n",
    "db_connection.close()"
   ]
  }
 ],
 "metadata": {
  "kernelspec": {
   "display_name": "Python 3 (ipykernel)",
   "language": "python",
   "name": "python3"
  },
  "language_info": {
   "codemirror_mode": {
    "name": "ipython",
    "version": 3
   },
   "file_extension": ".py",
   "mimetype": "text/x-python",
   "name": "python",
   "nbconvert_exporter": "python",
   "pygments_lexer": "ipython3",
   "version": "3.8.11"
  }
 },
 "nbformat": 4,
 "nbformat_minor": 5
}
